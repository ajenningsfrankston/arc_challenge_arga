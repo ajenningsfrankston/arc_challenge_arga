{
 "cells": [
  {
   "cell_type": "code",
   "id": "initial_id",
   "metadata": {
    "collapsed": true,
    "ExecuteTime": {
     "end_time": "2024-07-20T00:51:29.886888Z",
     "start_time": "2024-07-20T00:51:28.699293Z"
    }
   },
   "source": [
    "!pip install matplotlib\n",
    "!pip install networkx"
   ],
   "outputs": [
    {
     "name": "stdout",
     "output_type": "stream",
     "text": [
      "Requirement already satisfied: matplotlib in ./.venv/lib/python3.10/site-packages (3.9.1)\r\n",
      "Requirement already satisfied: contourpy>=1.0.1 in ./.venv/lib/python3.10/site-packages (from matplotlib) (1.2.1)\r\n",
      "Requirement already satisfied: cycler>=0.10 in ./.venv/lib/python3.10/site-packages (from matplotlib) (0.12.1)\r\n",
      "Requirement already satisfied: fonttools>=4.22.0 in ./.venv/lib/python3.10/site-packages (from matplotlib) (4.53.1)\r\n",
      "Requirement already satisfied: kiwisolver>=1.3.1 in ./.venv/lib/python3.10/site-packages (from matplotlib) (1.4.5)\r\n",
      "Requirement already satisfied: numpy>=1.23 in ./.venv/lib/python3.10/site-packages (from matplotlib) (2.0.0)\r\n",
      "Requirement already satisfied: packaging>=20.0 in ./.venv/lib/python3.10/site-packages (from matplotlib) (24.1)\r\n",
      "Requirement already satisfied: pillow>=8 in ./.venv/lib/python3.10/site-packages (from matplotlib) (10.4.0)\r\n",
      "Requirement already satisfied: pyparsing>=2.3.1 in ./.venv/lib/python3.10/site-packages (from matplotlib) (3.1.2)\r\n",
      "Requirement already satisfied: python-dateutil>=2.7 in ./.venv/lib/python3.10/site-packages (from matplotlib) (2.9.0.post0)\r\n",
      "Requirement already satisfied: six>=1.5 in ./.venv/lib/python3.10/site-packages (from python-dateutil>=2.7->matplotlib) (1.16.0)\r\n",
      "\r\n",
      "\u001B[1m[\u001B[0m\u001B[34;49mnotice\u001B[0m\u001B[1;39;49m]\u001B[0m\u001B[39;49m A new release of pip is available: \u001B[0m\u001B[31;49m23.2.1\u001B[0m\u001B[39;49m -> \u001B[0m\u001B[32;49m24.1.2\u001B[0m\r\n",
      "\u001B[1m[\u001B[0m\u001B[34;49mnotice\u001B[0m\u001B[1;39;49m]\u001B[0m\u001B[39;49m To update, run: \u001B[0m\u001B[32;49mpip install --upgrade pip\u001B[0m\r\n",
      "Requirement already satisfied: networkx in ./.venv/lib/python3.10/site-packages (3.3)\r\n",
      "\r\n",
      "\u001B[1m[\u001B[0m\u001B[34;49mnotice\u001B[0m\u001B[1;39;49m]\u001B[0m\u001B[39;49m A new release of pip is available: \u001B[0m\u001B[31;49m23.2.1\u001B[0m\u001B[39;49m -> \u001B[0m\u001B[32;49m24.1.2\u001B[0m\r\n",
      "\u001B[1m[\u001B[0m\u001B[34;49mnotice\u001B[0m\u001B[1;39;49m]\u001B[0m\u001B[39;49m To update, run: \u001B[0m\u001B[32;49mpip install --upgrade pip\u001B[0m\r\n"
     ]
    }
   ],
   "execution_count": 1
  },
  {
   "metadata": {
    "ExecuteTime": {
     "end_time": "2024-07-20T00:51:30.190628Z",
     "start_time": "2024-07-20T00:51:29.888146Z"
    }
   },
   "cell_type": "code",
   "source": [
    "from task import *\n",
    "import sys\n",
    "import json\n",
    "\n",
    "import pandas as pd\n",
    "import numpy as np\n",
    "\n",
    "import matplotlib.pyplot as plt\n",
    "from   matplotlib import colors"
   ],
   "id": "844cfc755a6cf6e0",
   "outputs": [],
   "execution_count": 2
  },
  {
   "metadata": {
    "ExecuteTime": {
     "end_time": "2024-07-20T00:51:30.192640Z",
     "start_time": "2024-07-20T00:51:30.191292Z"
    }
   },
   "cell_type": "code",
   "source": "",
   "id": "d4439aca7a109a4c",
   "outputs": [],
   "execution_count": 2
  },
  {
   "metadata": {
    "ExecuteTime": {
     "end_time": "2024-07-20T00:51:30.197172Z",
     "start_time": "2024-07-20T00:51:30.194243Z"
    }
   },
   "cell_type": "code",
   "source": [
    "def solve_task_id(task_id, train, test, task_type=\"training\"):\n",
    "    \"\"\"\n",
    "    solves a given task and saves the solution to a file\n",
    "    \"\"\"\n",
    "\n",
    "    task = Task(task_id,train,test)\n",
    "\n",
    "    abstraction, solution_apply_call, error, train_error, solving_time, nodes_explored = task.solve(\n",
    "        shared_frontier=True, time_limit=1800, do_constraint_acquisition=True, save_images=True)\n",
    "\n",
    "    solution = {\"abstraction\": abstraction, \"apply_call\": solution_apply_call, \"train_error\": train_error,\n",
    "                \"test_error\": error, \"time\": solving_time, \"nodes_explored\": nodes_explored}\n",
    "\n",
    "    if not os.path.exists('solutions'):\n",
    "        os.makedirs('solutions')\n",
    "    if error == 0:\n",
    "        if not os.path.exists('solutions/correct'):\n",
    "            os.makedirs('solutions/correct')\n",
    "        with open('solutions/correct/solutions_{}'.format(task_id), 'w') as fp:\n",
    "            json.dump(solution, fp)\n",
    "    else:\n",
    "        if not os.path.exists('solutions/incorrect'):\n",
    "            os.makedirs('solutions/incorrect')\n",
    "        with open('solutions/incorrect/solutions_{}'.format(task_id), 'w') as fp:\n",
    "            json.dump(solution, fp)\n",
    "    print(solution)"
   ],
   "id": "aedefdbc642f2ac2",
   "outputs": [],
   "execution_count": 3
  },
  {
   "metadata": {
    "ExecuteTime": {
     "end_time": "2024-07-20T00:51:30.199032Z",
     "start_time": "2024-07-20T00:51:30.197687Z"
    }
   },
   "cell_type": "code",
   "source": "",
   "id": "d1537a40566f8bdc",
   "outputs": [],
   "execution_count": 3
  },
  {
   "metadata": {
    "ExecuteTime": {
     "end_time": "2024-07-20T00:51:30.202032Z",
     "start_time": "2024-07-20T00:51:30.199993Z"
    }
   },
   "cell_type": "code",
   "source": [
    "def load_json(file_path):\n",
    "    with open(file_path) as f:\n",
    "        data = json.load(f)\n",
    "    return data\n"
   ],
   "id": "8eb341902606a8ac",
   "outputs": [],
   "execution_count": 4
  },
  {
   "metadata": {
    "ExecuteTime": {
     "end_time": "2024-07-20T00:51:30.204088Z",
     "start_time": "2024-07-20T00:51:30.202822Z"
    }
   },
   "cell_type": "code",
   "source": "",
   "id": "360bd3df588fc2fc",
   "outputs": [],
   "execution_count": 4
  },
  {
   "metadata": {
    "ExecuteTime": {
     "end_time": "2024-07-20T00:51:30.209133Z",
     "start_time": "2024-07-20T00:51:30.204697Z"
    }
   },
   "cell_type": "code",
   "source": [
    "def plot_task(task, task_solutions, i, t):\n",
    "    \"\"\"    Plots the first train and test pairs of a specified task,\n",
    "    using same color scheme as the ARC app    \"\"\"\n",
    "\n",
    "    num_train = len(task['train'])\n",
    "    num_test = len(task['test'])\n",
    "\n",
    "    w = num_train + num_test\n",
    "    fig, axs = plt.subplots(2, w, figsize=(3 * w, 3 * 2))\n",
    "    plt.suptitle(f'Set #{i}, {t}:', fontsize=20, fontweight='bold', y=1)\n",
    "    # plt.subplots_adjust(hspace = 0.15)\n",
    "    # plt.subplots_adjust(wspace=20, hspace=20)\n",
    "\n",
    "    for j in range(num_train):\n",
    "        plot_one(axs[0, j], j, 'train', 'input',task)\n",
    "        plot_one(axs[1, j], j, 'train', 'output', task)\n",
    "\n",
    "    plot_one(axs[0, j + 1], 0, 'test', 'input',task)\n",
    "\n",
    "    cmap = colors.ListedColormap(['#000000', '#0074D9', '#FF4136', '#2ECC40', '#FFDC00',\n",
    "                                  '#AAAAAA', '#F012BE', '#FF851B', '#7FDBFF', '#870C25'])\n",
    "    norm = colors.Normalize(vmin=0, vmax=9)\n",
    "    answer = task_solutions\n",
    "    input_matrix = answer\n",
    "\n",
    "    axs[1, j + 1].imshow(input_matrix, cmap=cmap, norm=norm)\n",
    "    axs[1, j + 1].grid(True, which='both', color='lightgrey', linewidth=0.5)\n",
    "    axs[1, j + 1].set_yticks([x - 0.5 for x in range(1 + len(input_matrix))])\n",
    "    axs[1, j + 1].set_xticks([x - 0.5 for x in range(1 + len(input_matrix[0]))])\n",
    "    axs[1, j + 1].set_xticklabels([])\n",
    "    axs[1, j + 1].set_yticklabels([])\n",
    "    axs[1, j + 1].set_title('Test output')\n",
    "\n",
    "    fig.patch.set_linewidth(5)\n",
    "    fig.patch.set_edgecolor('black')  # substitute 'k' for black\n",
    "    fig.patch.set_facecolor('#dddddd')\n",
    "\n",
    "    plt.tight_layout()\n",
    "    plt.show()\n",
    "\n",
    "    print()\n",
    "    print()\n"
   ],
   "id": "347eee5070fcb8ed",
   "outputs": [],
   "execution_count": 5
  },
  {
   "metadata": {
    "ExecuteTime": {
     "end_time": "2024-07-20T00:51:30.211042Z",
     "start_time": "2024-07-20T00:51:30.209761Z"
    }
   },
   "cell_type": "code",
   "source": "",
   "id": "d589c8d3581abfa",
   "outputs": [],
   "execution_count": 5
  },
  {
   "metadata": {
    "ExecuteTime": {
     "end_time": "2024-07-20T00:51:30.215968Z",
     "start_time": "2024-07-20T00:51:30.212878Z"
    }
   },
   "cell_type": "code",
   "source": [
    "def plot_one(ax, i, train_or_test, input_or_output,task):\n",
    "    cmap = colors.ListedColormap(['#000000', '#0074D9', '#FF4136', '#2ECC40', '#FFDC00',\n",
    "                                  '#AAAAAA', '#F012BE', '#FF851B', '#7FDBFF', '#870C25'])\n",
    "    norm = colors.Normalize(vmin=0, vmax=9)\n",
    "    input_matrix = task[train_or_test][i][input_or_output]\n",
    "    ax.imshow(input_matrix, cmap=cmap, norm=norm)\n",
    "    ax.grid(True, which='both', color='lightgrey', linewidth=0.5)\n",
    "\n",
    "    plt.setp(plt.gcf().get_axes(), xticklabels=[], yticklabels=[])\n",
    "    ax.set_xticks([x - 0.5 for x in range(1 + len(input_matrix[0]))])\n",
    "    ax.set_yticks([x - 0.5 for x in range(1 + len(input_matrix))])\n",
    "\n",
    "    ax.set_title(train_or_test + ' ' + input_or_output)"
   ],
   "id": "3c6b11c413c0d579",
   "outputs": [],
   "execution_count": 6
  },
  {
   "metadata": {
    "ExecuteTime": {
     "end_time": "2024-07-20T00:51:30.217846Z",
     "start_time": "2024-07-20T00:51:30.216557Z"
    }
   },
   "cell_type": "code",
   "source": "",
   "id": "8f0ca35e83bae7eb",
   "outputs": [],
   "execution_count": 6
  },
  {
   "metadata": {
    "ExecuteTime": {
     "end_time": "2024-07-20T00:51:30.220685Z",
     "start_time": "2024-07-20T00:51:30.218376Z"
    }
   },
   "cell_type": "code",
   "source": [
    "# 0:black, 1:blue, 2:red, 3:green, 4:yellow, # 5:gray, 6:magenta, 7:orange, 8:sky, 9:brown\n",
    "\n",
    "_cmap = colors.ListedColormap(\n",
    "    ['#000000', '#0074D9', '#FF4136', '#2ECC40', '#FFDC00',\n",
    "     '#AAAAAA', '#F012BE', '#FF851B', '#7FDBFF', '#870C25'])\n",
    "norm = colors.Normalize(vmin=0, vmax=9)\n",
    "\n",
    "plotting_examples = False\n",
    "\n",
    "if plotting_examples:\n",
    "    plt.figure(figsize=(3, 1), dpi=150)\n",
    "    plt.imshow([list(range(10))], cmap=_cmap, norm=norm)\n",
    "    plt.xticks(list(range(10)))\n",
    "    plt.yticks([])\n",
    "    plt.show()\n",
    "\n"
   ],
   "id": "a02a4c55616a305e",
   "outputs": [],
   "execution_count": 7
  },
  {
   "metadata": {
    "ExecuteTime": {
     "end_time": "2024-07-20T00:51:30.223304Z",
     "start_time": "2024-07-20T00:51:30.221764Z"
    }
   },
   "cell_type": "code",
   "source": "",
   "id": "4a4f3e949f08cd7d",
   "outputs": [],
   "execution_count": 7
  },
  {
   "metadata": {
    "ExecuteTime": {
     "end_time": "2024-07-20T00:51:30.304550Z",
     "start_time": "2024-07-20T00:51:30.224381Z"
    }
   },
   "cell_type": "code",
   "source": [
    "# base_path = '/kaggle/input/arc-prize-2024/'\n",
    "base_path = './dataset/'\n",
    "# Loading JSON data\n",
    "\n",
    "training_challenges = load_json(base_path + 'training/arc-agi_training_challenges.json')\n",
    "training_solutions = load_json(base_path + 'training/arc-agi_training_solutions.json')\n",
    "\n",
    "evaluation_challenges = load_json(base_path + 'evaluation/arc-agi_evaluation_challenges.json')\n",
    "evaluation_solutions = load_json(base_path + 'evaluation/arc-agi_evaluation_solutions.json')\n",
    "\n",
    "test_challenges = load_json(base_path + 'test/arc-agi_test_challenges.json')\n"
   ],
   "id": "930b775fd77c8865",
   "outputs": [],
   "execution_count": 8
  },
  {
   "metadata": {
    "ExecuteTime": {
     "end_time": "2024-07-20T00:51:30.307270Z",
     "start_time": "2024-07-20T00:51:30.305287Z"
    }
   },
   "cell_type": "code",
   "source": [
    "if plotting_examples:\n",
    "    for i in range(0, 10):\n",
    "        t = list(training_challenges)[i]\n",
    "        task = training_challenges[t]\n",
    "        task_solution = training_solutions[t][0]\n",
    "        # print(f'Set #{i}, {t}')\n",
    "        plot_task(task, task_solution, i, t)\n"
   ],
   "id": "eb3dd45d84b2e704",
   "outputs": [],
   "execution_count": 9
  },
  {
   "metadata": {
    "ExecuteTime": {
     "end_time": "2024-07-20T00:53:41.030229Z",
     "start_time": "2024-07-20T00:53:33.483425Z"
    }
   },
   "cell_type": "code",
   "source": [
    "task_type = 'training'\n",
    "\n",
    "#for task_no in range(20):\n",
    "task_no = 1\n",
    "\n",
    "t = list(training_challenges)[task_no]\n",
    "train= training_challenges[t]\n",
    "task_solution = training_solutions[t][0]\n",
    "\n",
    "print(t)\n",
    "\n",
    "plot_task(training_challenges[t], task_solution, task_no, t)\n",
    "\n",
    "solve_task_id(t,train,task_solution,task_type)"
   ],
   "id": "b8bd35e38fb5f80a",
   "outputs": [
    {
     "name": "stdout",
     "output_type": "stream",
     "text": [
      "00d62c1b\n"
     ]
    },
    {
     "data": {
      "text/plain": [
       "<Figure size 1800x600 with 12 Axes>"
      ],
      "image/png": "[encoded data removed]"
     },
     "metadata": {},
     "output_type": "display_data"
    },
    {
     "name": "stdout",
     "output_type": "stream",
     "text": [
      "\n",
      "\n",
      "Running task.solve() for #00d62c1b\n",
      "Initializing Frontier\n",
      "Expanding frontier node with abstraction na\n",
      "Found 1 Applicable Filters\n",
      "Number of New Candidate Nodes = 8\n",
      "Number of New Nodes Added to Frontier = 7\n",
      "Expanding frontier node with abstraction nbccg\n",
      "Found 136 Applicable Filters\n",
      "Number of New Candidate Nodes = 59412\n"
     ]
    },
    {
     "ename": "KeyboardInterrupt",
     "evalue": "",
     "output_type": "error",
     "traceback": [
      "\u001B[0;31m---------------------------------------------------------------------------\u001B[0m",
      "\u001B[0;31mKeyboardInterrupt\u001B[0m                         Traceback (most recent call last)",
      "Cell \u001B[0;32mIn[14], line 14\u001B[0m\n\u001B[1;32m     10\u001B[0m \u001B[38;5;28mprint\u001B[39m(t)\n\u001B[1;32m     12\u001B[0m plot_task(training_challenges[t], task_solution, task_no, t)\n\u001B[0;32m---> 14\u001B[0m \u001B[43msolve_task_id\u001B[49m\u001B[43m(\u001B[49m\u001B[43mt\u001B[49m\u001B[43m,\u001B[49m\u001B[43mtrain\u001B[49m\u001B[43m,\u001B[49m\u001B[43mtask_solution\u001B[49m\u001B[43m,\u001B[49m\u001B[43mtask_type\u001B[49m\u001B[43m)\u001B[49m\n",
      "Cell \u001B[0;32mIn[3], line 8\u001B[0m, in \u001B[0;36msolve_task_id\u001B[0;34m(task_id, train, test, task_type)\u001B[0m\n\u001B[1;32m      2\u001B[0m \u001B[38;5;250m\u001B[39m\u001B[38;5;124;03m\"\"\"\u001B[39;00m\n\u001B[1;32m      3\u001B[0m \u001B[38;5;124;03msolves a given task and saves the solution to a file\u001B[39;00m\n\u001B[1;32m      4\u001B[0m \u001B[38;5;124;03m\"\"\"\u001B[39;00m\n\u001B[1;32m      6\u001B[0m task \u001B[38;5;241m=\u001B[39m Task(task_id,train,test)\n\u001B[0;32m----> 8\u001B[0m abstraction, solution_apply_call, error, train_error, solving_time, nodes_explored \u001B[38;5;241m=\u001B[39m \u001B[43mtask\u001B[49m\u001B[38;5;241;43m.\u001B[39;49m\u001B[43msolve\u001B[49m\u001B[43m(\u001B[49m\n\u001B[1;32m      9\u001B[0m \u001B[43m    \u001B[49m\u001B[43mshared_frontier\u001B[49m\u001B[38;5;241;43m=\u001B[39;49m\u001B[38;5;28;43;01mTrue\u001B[39;49;00m\u001B[43m,\u001B[49m\u001B[43m \u001B[49m\u001B[43mtime_limit\u001B[49m\u001B[38;5;241;43m=\u001B[39;49m\u001B[38;5;241;43m1800\u001B[39;49m\u001B[43m,\u001B[49m\u001B[43m \u001B[49m\u001B[43mdo_constraint_acquisition\u001B[49m\u001B[38;5;241;43m=\u001B[39;49m\u001B[38;5;28;43;01mTrue\u001B[39;49;00m\u001B[43m,\u001B[49m\u001B[43m \u001B[49m\u001B[43msave_images\u001B[49m\u001B[38;5;241;43m=\u001B[39;49m\u001B[38;5;28;43;01mTrue\u001B[39;49;00m\u001B[43m)\u001B[49m\n\u001B[1;32m     11\u001B[0m solution \u001B[38;5;241m=\u001B[39m {\u001B[38;5;124m\"\u001B[39m\u001B[38;5;124mabstraction\u001B[39m\u001B[38;5;124m\"\u001B[39m: abstraction, \u001B[38;5;124m\"\u001B[39m\u001B[38;5;124mapply_call\u001B[39m\u001B[38;5;124m\"\u001B[39m: solution_apply_call, \u001B[38;5;124m\"\u001B[39m\u001B[38;5;124mtrain_error\u001B[39m\u001B[38;5;124m\"\u001B[39m: train_error,\n\u001B[1;32m     12\u001B[0m             \u001B[38;5;124m\"\u001B[39m\u001B[38;5;124mtest_error\u001B[39m\u001B[38;5;124m\"\u001B[39m: error, \u001B[38;5;124m\"\u001B[39m\u001B[38;5;124mtime\u001B[39m\u001B[38;5;124m\"\u001B[39m: solving_time, \u001B[38;5;124m\"\u001B[39m\u001B[38;5;124mnodes_explored\u001B[39m\u001B[38;5;124m\"\u001B[39m: nodes_explored}\n\u001B[1;32m     14\u001B[0m \u001B[38;5;28;01mif\u001B[39;00m \u001B[38;5;129;01mnot\u001B[39;00m os\u001B[38;5;241m.\u001B[39mpath\u001B[38;5;241m.\u001B[39mexists(\u001B[38;5;124m'\u001B[39m\u001B[38;5;124msolutions\u001B[39m\u001B[38;5;124m'\u001B[39m):\n",
      "File \u001B[0;32m~/PyCharmProjects/arc_challenge/task.py:116\u001B[0m, in \u001B[0;36mTask.solve\u001B[0;34m(self, shared_frontier, time_limit, do_constraint_acquisition, save_images)\u001B[0m\n\u001B[1;32m    113\u001B[0m \u001B[38;5;28mself\u001B[39m\u001B[38;5;241m.\u001B[39mstart_time \u001B[38;5;241m=\u001B[39m time\u001B[38;5;241m.\u001B[39mtime()\n\u001B[1;32m    115\u001B[0m \u001B[38;5;66;03m# initialize frontier\u001B[39;00m\n\u001B[0;32m--> 116\u001B[0m stop_search \u001B[38;5;241m=\u001B[39m \u001B[38;5;28;43mself\u001B[39;49m\u001B[38;5;241;43m.\u001B[39;49m\u001B[43minitialize_frontier\u001B[49m\u001B[43m(\u001B[49m\u001B[43m)\u001B[49m\n\u001B[1;32m    118\u001B[0m \u001B[38;5;66;03m# main search loop\u001B[39;00m\n\u001B[1;32m    119\u001B[0m \u001B[38;5;28;01mwhile\u001B[39;00m \u001B[38;5;129;01mnot\u001B[39;00m stop_search:\n",
      "File \u001B[0;32m~/PyCharmProjects/arc_challenge/task.py:241\u001B[0m, in \u001B[0;36mTask.initialize_frontier\u001B[0;34m(self)\u001B[0m\n\u001B[1;32m    239\u001B[0m \u001B[38;5;66;03m# initiate frontier with dummy node and expand it (representing doing nothing to the input image)\u001B[39;00m\n\u001B[1;32m    240\u001B[0m frontier_node \u001B[38;5;241m=\u001B[39m PriorityItem([], abstraction, \u001B[38;5;28mfloat\u001B[39m(\u001B[38;5;124m\"\u001B[39m\u001B[38;5;124minf\u001B[39m\u001B[38;5;124m\"\u001B[39m), \u001B[38;5;28mfloat\u001B[39m(\u001B[38;5;124m\"\u001B[39m\u001B[38;5;124minf\u001B[39m\u001B[38;5;124m\"\u001B[39m))\n\u001B[0;32m--> 241\u001B[0m \u001B[38;5;28;43mself\u001B[39;49m\u001B[38;5;241;43m.\u001B[39;49m\u001B[43mexpand_frontier\u001B[49m\u001B[43m(\u001B[49m\u001B[43mfrontier_node\u001B[49m\u001B[43m)\u001B[49m\n\u001B[1;32m    243\u001B[0m \u001B[38;5;28;01mif\u001B[39;00m \u001B[38;5;28mself\u001B[39m\u001B[38;5;241m.\u001B[39mshared_frontier:\n\u001B[1;32m    244\u001B[0m     \u001B[38;5;28;01mif\u001B[39;00m \u001B[38;5;28mlen\u001B[39m(\u001B[38;5;28mself\u001B[39m\u001B[38;5;241m.\u001B[39mfrontier\u001B[38;5;241m.\u001B[39mqueue) \u001B[38;5;241m==\u001B[39m \u001B[38;5;241m0\u001B[39m:  \u001B[38;5;66;03m# the current abstraction generated no valid results\u001B[39;00m\n",
      "File \u001B[0;32m~/PyCharmProjects/arc_challenge/task.py:438\u001B[0m, in \u001B[0;36mTask.expand_frontier\u001B[0;34m(self, frontier_node)\u001B[0m\n\u001B[1;32m    436\u001B[0m cumulated_apply_calls \u001B[38;5;241m=\u001B[39m frontier_node\u001B[38;5;241m.\u001B[39mdata\u001B[38;5;241m.\u001B[39mcopy()\n\u001B[1;32m    437\u001B[0m cumulated_apply_calls\u001B[38;5;241m.\u001B[39mappend(apply_call)\n\u001B[0;32m--> 438\u001B[0m apply_call_score, results_token \u001B[38;5;241m=\u001B[39m \u001B[38;5;28;43mself\u001B[39;49m\u001B[38;5;241;43m.\u001B[39;49m\u001B[43mcalculate_score\u001B[49m\u001B[43m(\u001B[49m\u001B[43mcumulated_apply_calls\u001B[49m\u001B[43m)\u001B[49m\n\u001B[1;32m    439\u001B[0m \u001B[38;5;28;01mif\u001B[39;00m apply_call_score \u001B[38;5;241m==\u001B[39m \u001B[38;5;241m-\u001B[39m\u001B[38;5;241m1\u001B[39m:\n\u001B[1;32m    440\u001B[0m     \u001B[38;5;28;01mcontinue\u001B[39;00m\n",
      "File \u001B[0;32m~/PyCharmProjects/arc_challenge/task.py:669\u001B[0m, in \u001B[0;36mTask.calculate_score\u001B[0;34m(self, apply_call)\u001B[0m\n\u001B[1;32m    662\u001B[0m \u001B[38;5;28;01mdef\u001B[39;00m \u001B[38;5;21mcalculate_score\u001B[39m(\u001B[38;5;28mself\u001B[39m, apply_call):\n\u001B[1;32m    663\u001B[0m \u001B[38;5;250m    \u001B[39m\u001B[38;5;124;03m\"\"\"\u001B[39;00m\n\u001B[1;32m    664\u001B[0m \u001B[38;5;124;03m    calculate the total score across all training examples for a given apply call.\u001B[39;00m\n\u001B[1;32m    665\u001B[0m \u001B[38;5;124;03m    hash the apply call by converting the results to a string and use it as a key to the cache.\u001B[39;00m\n\u001B[1;32m    666\u001B[0m \u001B[38;5;124;03m    return -1, -1 if the apply call is invalid\u001B[39;00m\n\u001B[1;32m    667\u001B[0m \u001B[38;5;124;03m    \"\"\"\u001B[39;00m\n\u001B[0;32m--> 669\u001B[0m     input_abstracted_graphs \u001B[38;5;241m=\u001B[39m [input_abstracted\u001B[38;5;241m.\u001B[39mcopy() \u001B[38;5;28;01mfor\u001B[39;00m input_abstracted \u001B[38;5;129;01min\u001B[39;00m\n\u001B[1;32m    670\u001B[0m                                \u001B[38;5;28mself\u001B[39m\u001B[38;5;241m.\u001B[39minput_abstracted_graphs_original[\u001B[38;5;28mself\u001B[39m\u001B[38;5;241m.\u001B[39mabstraction]]\n\u001B[1;32m    671\u001B[0m     \u001B[38;5;28;01mtry\u001B[39;00m:\n\u001B[1;32m    672\u001B[0m         \u001B[38;5;28;01mfor\u001B[39;00m input_abstracted_graph \u001B[38;5;129;01min\u001B[39;00m input_abstracted_graphs:\n",
      "File \u001B[0;32m~/PyCharmProjects/arc_challenge/task.py:669\u001B[0m, in \u001B[0;36m<listcomp>\u001B[0;34m(.0)\u001B[0m\n\u001B[1;32m    662\u001B[0m \u001B[38;5;28;01mdef\u001B[39;00m \u001B[38;5;21mcalculate_score\u001B[39m(\u001B[38;5;28mself\u001B[39m, apply_call):\n\u001B[1;32m    663\u001B[0m \u001B[38;5;250m    \u001B[39m\u001B[38;5;124;03m\"\"\"\u001B[39;00m\n\u001B[1;32m    664\u001B[0m \u001B[38;5;124;03m    calculate the total score across all training examples for a given apply call.\u001B[39;00m\n\u001B[1;32m    665\u001B[0m \u001B[38;5;124;03m    hash the apply call by converting the results to a string and use it as a key to the cache.\u001B[39;00m\n\u001B[1;32m    666\u001B[0m \u001B[38;5;124;03m    return -1, -1 if the apply call is invalid\u001B[39;00m\n\u001B[1;32m    667\u001B[0m \u001B[38;5;124;03m    \"\"\"\u001B[39;00m\n\u001B[0;32m--> 669\u001B[0m     input_abstracted_graphs \u001B[38;5;241m=\u001B[39m [\u001B[43minput_abstracted\u001B[49m\u001B[38;5;241;43m.\u001B[39;49m\u001B[43mcopy\u001B[49m\u001B[43m(\u001B[49m\u001B[43m)\u001B[49m \u001B[38;5;28;01mfor\u001B[39;00m input_abstracted \u001B[38;5;129;01min\u001B[39;00m\n\u001B[1;32m    670\u001B[0m                                \u001B[38;5;28mself\u001B[39m\u001B[38;5;241m.\u001B[39minput_abstracted_graphs_original[\u001B[38;5;28mself\u001B[39m\u001B[38;5;241m.\u001B[39mabstraction]]\n\u001B[1;32m    671\u001B[0m     \u001B[38;5;28;01mtry\u001B[39;00m:\n\u001B[1;32m    672\u001B[0m         \u001B[38;5;28;01mfor\u001B[39;00m input_abstracted_graph \u001B[38;5;129;01min\u001B[39;00m input_abstracted_graphs:\n",
      "File \u001B[0;32m~/PyCharmProjects/arc_challenge/ARCGraph.py:755\u001B[0m, in \u001B[0;36mARCGraph.copy\u001B[0;34m(self)\u001B[0m\n\u001B[1;32m    751\u001B[0m \u001B[38;5;28;01mdef\u001B[39;00m \u001B[38;5;21mcopy\u001B[39m(\u001B[38;5;28mself\u001B[39m):\n\u001B[1;32m    752\u001B[0m \u001B[38;5;250m    \u001B[39m\u001B[38;5;124;03m\"\"\"\u001B[39;00m\n\u001B[1;32m    753\u001B[0m \u001B[38;5;124;03m    return a copy of this ARCGraph object\u001B[39;00m\n\u001B[1;32m    754\u001B[0m \u001B[38;5;124;03m    \"\"\"\u001B[39;00m\n\u001B[0;32m--> 755\u001B[0m     \u001B[38;5;28;01mreturn\u001B[39;00m \u001B[43mARCGraph\u001B[49m\u001B[43m(\u001B[49m\u001B[38;5;28;43mself\u001B[39;49m\u001B[38;5;241;43m.\u001B[39;49m\u001B[43mgraph\u001B[49m\u001B[38;5;241;43m.\u001B[39;49m\u001B[43mcopy\u001B[49m\u001B[43m(\u001B[49m\u001B[43m)\u001B[49m\u001B[43m,\u001B[49m\u001B[43m \u001B[49m\u001B[38;5;28;43mself\u001B[39;49m\u001B[38;5;241;43m.\u001B[39;49m\u001B[43mname\u001B[49m\u001B[43m,\u001B[49m\u001B[43m \u001B[49m\u001B[38;5;28;43mself\u001B[39;49m\u001B[38;5;241;43m.\u001B[39;49m\u001B[43mimage\u001B[49m\u001B[43m,\u001B[49m\u001B[43m \u001B[49m\u001B[38;5;28;43mself\u001B[39;49m\u001B[38;5;241;43m.\u001B[39;49m\u001B[43mabstraction\u001B[49m\u001B[43m)\u001B[49m\n",
      "File \u001B[0;32m~/PyCharmProjects/arc_challenge/ARCGraph.py:51\u001B[0m, in \u001B[0;36mARCGraph.__init__\u001B[0;34m(self, graph, name, image, abstraction)\u001B[0m\n\u001B[1;32m     48\u001B[0m     \u001B[38;5;28mself\u001B[39m\u001B[38;5;241m.\u001B[39mmost_common_color \u001B[38;5;241m=\u001B[39m image\u001B[38;5;241m.\u001B[39mmost_common_color\n\u001B[1;32m     49\u001B[0m     \u001B[38;5;28mself\u001B[39m\u001B[38;5;241m.\u001B[39mleast_common_color \u001B[38;5;241m=\u001B[39m image\u001B[38;5;241m.\u001B[39mleast_common_color\n\u001B[0;32m---> 51\u001B[0m \u001B[38;5;28mself\u001B[39m\u001B[38;5;241m.\u001B[39mwidth \u001B[38;5;241m=\u001B[39m \u001B[38;5;28;43mmax\u001B[39;49m\u001B[43m(\u001B[49m\u001B[43m[\u001B[49m\u001B[43mnode\u001B[49m\u001B[43m[\u001B[49m\u001B[38;5;241;43m1\u001B[39;49m\u001B[43m]\u001B[49m\u001B[43m \u001B[49m\u001B[38;5;28;43;01mfor\u001B[39;49;00m\u001B[43m \u001B[49m\u001B[43mnode\u001B[49m\u001B[43m \u001B[49m\u001B[38;5;129;43;01min\u001B[39;49;00m\u001B[43m \u001B[49m\u001B[38;5;28;43mself\u001B[39;49m\u001B[38;5;241;43m.\u001B[39;49m\u001B[43mimage\u001B[49m\u001B[38;5;241;43m.\u001B[39;49m\u001B[43mgraph\u001B[49m\u001B[38;5;241;43m.\u001B[39;49m\u001B[43mnodes\u001B[49m\u001B[43m(\u001B[49m\u001B[43m)\u001B[49m\u001B[43m]\u001B[49m\u001B[43m)\u001B[49m \u001B[38;5;241m+\u001B[39m \u001B[38;5;241m1\u001B[39m\n\u001B[1;32m     52\u001B[0m \u001B[38;5;28mself\u001B[39m\u001B[38;5;241m.\u001B[39mheight \u001B[38;5;241m=\u001B[39m \u001B[38;5;28mmax\u001B[39m([node[\u001B[38;5;241m0\u001B[39m] \u001B[38;5;28;01mfor\u001B[39;00m node \u001B[38;5;129;01min\u001B[39;00m \u001B[38;5;28mself\u001B[39m\u001B[38;5;241m.\u001B[39mimage\u001B[38;5;241m.\u001B[39mgraph\u001B[38;5;241m.\u001B[39mnodes()]) \u001B[38;5;241m+\u001B[39m \u001B[38;5;241m1\u001B[39m\n\u001B[1;32m     53\u001B[0m \u001B[38;5;28mself\u001B[39m\u001B[38;5;241m.\u001B[39mtask_id \u001B[38;5;241m=\u001B[39m name\u001B[38;5;241m.\u001B[39msplit(\u001B[38;5;124m\"\u001B[39m\u001B[38;5;124m_\u001B[39m\u001B[38;5;124m\"\u001B[39m)[\u001B[38;5;241m0\u001B[39m]\n",
      "\u001B[0;31mKeyboardInterrupt\u001B[0m: "
     ]
    }
   ],
   "execution_count": 14
  },
  {
   "metadata": {
    "ExecuteTime": {
     "end_time": "2024-07-20T00:51:30.826430Z",
     "start_time": "2024-07-20T00:51:30.826381Z"
    }
   },
   "cell_type": "code",
   "source": "",
   "id": "4b246cc9d6dd7199",
   "outputs": [],
   "execution_count": null
  }
 ],
 "metadata": {
  "kernelspec": {
   "display_name": "Python 3",
   "language": "python",
   "name": "python3"
  },
  "language_info": {
   "codemirror_mode": {
    "name": "ipython",
    "version": 2
   },
   "file_extension": ".py",
   "mimetype": "text/x-python",
   "name": "python",
   "nbconvert_exporter": "python",
   "pygments_lexer": "ipython2",
   "version": "2.7.6"
  }
 },
 "nbformat": 4,
 "nbformat_minor": 5
}
