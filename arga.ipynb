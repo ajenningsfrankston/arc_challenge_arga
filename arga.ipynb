{
 "cells": [
  {
   "cell_type": "code",
   "execution_count": null,
   "id": "initial_id",
   "metadata": {
    "collapsed": true
   },
   "outputs": [],
   "source": [
    ""
   ]
  },
  {
   "metadata": {},
   "cell_type": "code",
   "outputs": [],
   "execution_count": null,
   "source": [
    "from task import *\n",
    "import sys\n",
    "import json\n",
    "\n",
    "import pandas as pd\n",
    "import numpy as np\n",
    "\n",
    "import matplotlib.pyplot as plt\n",
    "from   matplotlib import colors\n",
    "import seaborn as sns"
   ],
   "id": "844cfc755a6cf6e0"
  },
  {
   "metadata": {},
   "cell_type": "code",
   "outputs": [],
   "execution_count": null,
   "source": "",
   "id": "d4439aca7a109a4c"
  },
  {
   "metadata": {},
   "cell_type": "code",
   "outputs": [],
   "execution_count": null,
   "source": [
    "def solve_task_id(task_id, train, test, task_type=\"training\"):\n",
    "    \"\"\"\n",
    "    solves a given task and saves the solution to a file\n",
    "    \"\"\"\n",
    "\n",
    "    task = Task(task_id,train,test)\n",
    "\n",
    "    abstraction, solution_apply_call, error, train_error, solving_time, nodes_explored = task.solve(\n",
    "        shared_frontier=True, time_limit=1800, do_constraint_acquisition=True, save_images=True)\n",
    "\n",
    "    solution = {\"abstraction\": abstraction, \"apply_call\": solution_apply_call, \"train_error\": train_error,\n",
    "                \"test_error\": error, \"time\": solving_time, \"nodes_explored\": nodes_explored}\n",
    "    if error == 0:\n",
    "        with open('solutions/correct/solutions_{}'.format(task_id), 'w') as fp:\n",
    "            json.dump(solution, fp)\n",
    "    else:\n",
    "        with open('solutions/incorrect/solutions_{}'.format(task_id), 'w') as fp:\n",
    "            json.dump(solution, fp)\n",
    "    print(solution)"
   ],
   "id": "aedefdbc642f2ac2"
  },
  {
   "metadata": {},
   "cell_type": "code",
   "outputs": [],
   "execution_count": null,
   "source": "",
   "id": "d1537a40566f8bdc"
  },
  {
   "metadata": {},
   "cell_type": "code",
   "outputs": [],
   "execution_count": null,
   "source": [
    "def load_json(file_path):\n",
    "    with open(file_path) as f:\n",
    "        data = json.load(f)\n",
    "    return data\n"
   ],
   "id": "8eb341902606a8ac"
  },
  {
   "metadata": {},
   "cell_type": "code",
   "outputs": [],
   "execution_count": null,
   "source": "",
   "id": "360bd3df588fc2fc"
  },
  {
   "metadata": {},
   "cell_type": "code",
   "outputs": [],
   "execution_count": null,
   "source": [
    "def plot_task(task, task_solutions, i, t):\n",
    "    \"\"\"    Plots the first train and test pairs of a specified task,\n",
    "    using same color scheme as the ARC app    \"\"\"\n",
    "\n",
    "    num_train = len(task['train'])\n",
    "    num_test = len(task['test'])\n",
    "\n",
    "    w = num_train + num_test\n",
    "    fig, axs = plt.subplots(2, w, figsize=(3 * w, 3 * 2))\n",
    "    plt.suptitle(f'Set #{i}, {t}:', fontsize=20, fontweight='bold', y=1)\n",
    "    # plt.subplots_adjust(hspace = 0.15)\n",
    "    # plt.subplots_adjust(wspace=20, hspace=20)\n",
    "\n",
    "    for j in range(num_train):\n",
    "        plot_one(axs[0, j], j, 'train', 'input',task)\n",
    "        plot_one(axs[1, j], j, 'train', 'output', task)\n",
    "\n",
    "    plot_one(axs[0, j + 1], 0, 'test', 'input',task)\n",
    "\n",
    "    cmap = colors.ListedColormap(['#000000', '#0074D9', '#FF4136', '#2ECC40', '#FFDC00',\n",
    "                                  '#AAAAAA', '#F012BE', '#FF851B', '#7FDBFF', '#870C25'])\n",
    "    norm = colors.Normalize(vmin=0, vmax=9)\n",
    "    answer = task_solutions\n",
    "    input_matrix = answer\n",
    "\n",
    "    axs[1, j + 1].imshow(input_matrix, cmap=cmap, norm=norm)\n",
    "    axs[1, j + 1].grid(True, which='both', color='lightgrey', linewidth=0.5)\n",
    "    axs[1, j + 1].set_yticks([x - 0.5 for x in range(1 + len(input_matrix))])\n",
    "    axs[1, j + 1].set_xticks([x - 0.5 for x in range(1 + len(input_matrix[0]))])\n",
    "    axs[1, j + 1].set_xticklabels([])\n",
    "    axs[1, j + 1].set_yticklabels([])\n",
    "    axs[1, j + 1].set_title('Test output')\n",
    "\n",
    "    fig.patch.set_linewidth(5)\n",
    "    fig.patch.set_edgecolor('black')  # substitute 'k' for black\n",
    "    fig.patch.set_facecolor('#dddddd')\n",
    "\n",
    "    plt.tight_layout()\n",
    "    plt.show()\n",
    "\n",
    "    print()\n",
    "    print()\n"
   ],
   "id": "347eee5070fcb8ed"
  },
  {
   "metadata": {},
   "cell_type": "code",
   "outputs": [],
   "execution_count": null,
   "source": "",
   "id": "d589c8d3581abfa"
  },
  {
   "metadata": {},
   "cell_type": "code",
   "outputs": [],
   "execution_count": null,
   "source": [
    "def plot_one(ax, i, train_or_test, input_or_output,task):\n",
    "    cmap = colors.ListedColormap(['#000000', '#0074D9', '#FF4136', '#2ECC40', '#FFDC00',\n",
    "                                  '#AAAAAA', '#F012BE', '#FF851B', '#7FDBFF', '#870C25'])\n",
    "    norm = colors.Normalize(vmin=0, vmax=9)\n",
    "    input_matrix = task[train_or_test][i][input_or_output]\n",
    "    ax.imshow(input_matrix, cmap=cmap, norm=norm)\n",
    "    ax.grid(True, which='both', color='lightgrey', linewidth=0.5)\n",
    "\n",
    "    plt.setp(plt.gcf().get_axes(), xticklabels=[], yticklabels=[])\n",
    "    ax.set_xticks([x - 0.5 for x in range(1 + len(input_matrix[0]))])\n",
    "    ax.set_yticks([x - 0.5 for x in range(1 + len(input_matrix))])\n",
    "\n",
    "    ax.set_title(train_or_test + ' ' + input_or_output)"
   ],
   "id": "3c6b11c413c0d579"
  },
  {
   "metadata": {},
   "cell_type": "code",
   "outputs": [],
   "execution_count": null,
   "source": "",
   "id": "8f0ca35e83bae7eb"
  },
  {
   "metadata": {},
   "cell_type": "code",
   "outputs": [],
   "execution_count": null,
   "source": [
    "# 0:black, 1:blue, 2:red, 3:green, 4:yellow, # 5:gray, 6:magenta, 7:orange, 8:sky, 9:brown\n",
    "\n",
    "_cmap = colors.ListedColormap(\n",
    "    ['#000000', '#0074D9', '#FF4136', '#2ECC40', '#FFDC00',\n",
    "     '#AAAAAA', '#F012BE', '#FF851B', '#7FDBFF', '#870C25'])\n",
    "norm = colors.Normalize(vmin=0, vmax=9)\n",
    "\n",
    "plotting_examples = False\n",
    "\n",
    "if plotting_examples:\n",
    "    plt.figure(figsize=(3, 1), dpi=150)\n",
    "    plt.imshow([list(range(10))], cmap=_cmap, norm=norm)\n",
    "    plt.xticks(list(range(10)))\n",
    "    plt.yticks([])\n",
    "    plt.show()\n",
    "\n"
   ],
   "id": "a02a4c55616a305e"
  },
  {
   "metadata": {},
   "cell_type": "code",
   "outputs": [],
   "execution_count": null,
   "source": "",
   "id": "4a4f3e949f08cd7d"
  },
  {
   "metadata": {},
   "cell_type": "code",
   "outputs": [],
   "execution_count": null,
   "source": [
    "# base_path = '/kaggle/input/arc-prize-2024/'\n",
    "base_path = './dataset/'\n",
    "# Loading JSON data\n",
    "\n",
    "training_challenges = load_json(base_path + 'training/arc-agi_training_challenges.json')\n",
    "training_solutions = load_json(base_path + 'training/arc-agi_training_solutions.json')\n",
    "\n",
    "evaluation_challenges = load_json(base_path + 'evaluation/arc-agi_evaluation_challenges.json')\n",
    "evaluation_solutions = load_json(base_path + 'evaluation/arc-agi_evaluation_solutions.json')\n",
    "\n",
    "test_challenges = load_json(base_path + 'test/arc-agi_test_challenges.json')\n"
   ],
   "id": "930b775fd77c8865"
  },
  {
   "metadata": {},
   "cell_type": "code",
   "outputs": [],
   "execution_count": null,
   "source": [
    "if plotting_examples:\n",
    "    for i in range(0, 10):\n",
    "        t = list(training_challenges)[i]\n",
    "        task = training_challenges[t]\n",
    "        task_solution = training_solutions[t][0]\n",
    "        # print(f'Set #{i}, {t}')\n",
    "        plot_task(task, task_solution, i, t)\n"
   ],
   "id": "eb3dd45d84b2e704"
  },
  {
   "metadata": {},
   "cell_type": "code",
   "outputs": [],
   "execution_count": null,
   "source": [
    "task_type = 'training'\n",
    "\n",
    "task_no = 7\n",
    "\n",
    "t = list(training_challenges)[task_no]\n",
    "train= training_challenges[t]\n",
    "task_solution = training_solutions[t][0]\n",
    "\n",
    "print(t)\n",
    "\n",
    "plot_task(training_challenges[t], task_solution, task_no, t)\n",
    "\n",
    "solve_task_id(t,train,task_solution, task_type)"
   ],
   "id": "b8bd35e38fb5f80a"
  }
 ],
 "metadata": {
  "kernelspec": {
   "display_name": "Python 3",
   "language": "python",
   "name": "python3"
  },
  "language_info": {
   "codemirror_mode": {
    "name": "ipython",
    "version": 2
   },
   "file_extension": ".py",
   "mimetype": "text/x-python",
   "name": "python",
   "nbconvert_exporter": "python",
   "pygments_lexer": "ipython2",
   "version": "2.7.6"
  }
 },
 "nbformat": 4,
 "nbformat_minor": 5
}
